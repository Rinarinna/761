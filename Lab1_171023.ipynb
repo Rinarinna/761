{
  "nbformat": 4,
  "nbformat_minor": 0,
  "metadata": {
    "colab": {
      "provenance": [],
      "include_colab_link": true
    },
    "kernelspec": {
      "name": "python3",
      "display_name": "Python 3"
    },
    "language_info": {
      "name": "python"
    }
  },
  "cells": [
    {
      "cell_type": "markdown",
      "metadata": {
        "id": "view-in-github",
        "colab_type": "text"
      },
      "source": [
        "<a href=\"https://colab.research.google.com/github/Rinarinna/761/blob/main/Lab1_171023.ipynb\" target=\"_parent\"><img src=\"https://colab.research.google.com/assets/colab-badge.svg\" alt=\"Open In Colab\"/></a>"
      ]
    },
    {
      "cell_type": "code",
      "execution_count": null,
      "metadata": {
        "colab": {
          "base_uri": "https://localhost:8080/"
        },
        "id": "-I477XHFI6ES",
        "outputId": "7675d9f6-967d-4589-99c0-b0f8df7c7128"
      },
      "outputs": [
        {
          "output_type": "stream",
          "name": "stdout",
          "text": [
            "Введите число 1: 4\n",
            "Введите число 2: 5\n",
            "4 5\n"
          ]
        }
      ],
      "source": [
        "var1 = input(\"Введите число 1: \")\n",
        "var2 = input(\"Введите число 2: \")\n",
        "print(var1, var2)\n",
        "\n"
      ]
    },
    {
      "cell_type": "code",
      "source": [
        "for i in range(1,8,2):\n",
        "  print(i)"
      ],
      "metadata": {
        "colab": {
          "base_uri": "https://localhost:8080/"
        },
        "id": "_W6gG4MGKrdp",
        "outputId": "4ffad064-f9be-4bb3-d7d1-43272a8082b2"
      },
      "execution_count": null,
      "outputs": [
        {
          "output_type": "stream",
          "name": "stdout",
          "text": [
            "1\n",
            "3\n",
            "5\n",
            "7\n"
          ]
        }
      ]
    },
    {
      "cell_type": "markdown",
      "source": [
        "Программа, в которую вписываем два числа (var1, var2) с помощью input\n",
        "\n",
        "\n",
        "\n",
        "*   вывести сумму этих чисел\n",
        "*   разность\n",
        "*   произведение  \n",
        "*   деление (если идёт деление на 0 - не делить)\n",
        "*   в степень var1 в var2\n",
        "\n",
        "всё вывести на экран\n"
      ],
      "metadata": {
        "id": "jlxJ0hEQMhJU"
      }
    },
    {
      "cell_type": "code",
      "source": [
        "var1=int(input(\"Первое число: \"))\n",
        "var2=int(input(\"Второе число: \"))\n",
        "print(\"Сумма: \",var1+var2)\n",
        "print(\"Разность: \",var1-var2)\n",
        "print(\"Произведение: \", var1*var2)\n",
        "if(var2!=0):\n",
        "  print(\"Деление: \", var1/var2)\n",
        "else:\n",
        "  print(\"Деление на 0\")\n",
        "print(\"В степень: \", var1**var2)"
      ],
      "metadata": {
        "colab": {
          "base_uri": "https://localhost:8080/"
        },
        "id": "0MptlsX6Mlkn",
        "outputId": "f9e21459-63ab-462e-d748-17339f96bfb9"
      },
      "execution_count": null,
      "outputs": [
        {
          "output_type": "stream",
          "name": "stdout",
          "text": [
            "Первое число: 2\n",
            "Второе число: 2\n",
            "Сумма:  4\n",
            "Разность:  0\n",
            "Произведение:  4\n",
            "Деление:  1.0\n",
            "В степень:  4\n"
          ]
        }
      ]
    },
    {
      "cell_type": "markdown",
      "source": [
        "1. Вывести на экран список от 0 до n, где n - введеное число с консоли.\n",
        "2. Выводить только нечетные значения"
      ],
      "metadata": {
        "id": "trqkeFDWTewt"
      }
    },
    {
      "cell_type": "code",
      "source": [
        "n = int(input(\"Введите число n: \"))\n",
        "for i in range(n+1):\n",
        "  print(i)"
      ],
      "metadata": {
        "colab": {
          "base_uri": "https://localhost:8080/"
        },
        "id": "pCD4yMCqTpPH",
        "outputId": "b866ec95-3a43-4b8c-b58a-10736cdb9421"
      },
      "execution_count": null,
      "outputs": [
        {
          "output_type": "stream",
          "name": "stdout",
          "text": [
            "Введите число n: 5\n",
            "0\n",
            "1\n",
            "2\n",
            "3\n",
            "4\n",
            "5\n"
          ]
        }
      ]
    },
    {
      "cell_type": "code",
      "source": [
        "n = int(input(\"Введите число n: \"))\n",
        "if(n>0):\n",
        "  for i in range(n+1):\n",
        "    if i%2!=0:\n",
        "     print(i)\n",
        "else:\n",
        "  print(\"n<=0\")"
      ],
      "metadata": {
        "colab": {
          "base_uri": "https://localhost:8080/"
        },
        "id": "VnlOli_oWCEV",
        "outputId": "959ad1cd-6fc5-4889-c7ea-1c08eb4e8f97"
      },
      "execution_count": null,
      "outputs": [
        {
          "output_type": "stream",
          "name": "stdout",
          "text": [
            "Введите число n: 15\n",
            "1\n",
            "3\n",
            "5\n",
            "7\n",
            "9\n",
            "11\n",
            "13\n",
            "15\n"
          ]
        }
      ]
    },
    {
      "cell_type": "markdown",
      "source": [
        "С помощью цикла for вывести посимвольно в консоль текст, введенный с помощью input\n",
        "\n",
        "Добавить второй input с одним символом и искать в первом тексте количество данных символов. Вывести результат"
      ],
      "metadata": {
        "id": "BTrEV7_LXoCY"
      }
    },
    {
      "cell_type": "code",
      "source": [
        "mas = input(\"Введите текст: \")\n",
        "sym_f = input(\"Введите символ: \")\n",
        "count = 0\n",
        "print(mas)\n",
        "for i in mas:\n",
        "  if i == sym_f:\n",
        "    count+=1\n",
        "print(count)"
      ],
      "metadata": {
        "colab": {
          "base_uri": "https://localhost:8080/"
        },
        "id": "e4rVtNJ5ZeGd",
        "outputId": "2ba78a41-8e53-47e9-b731-5e5b7405c54e"
      },
      "execution_count": null,
      "outputs": [
        {
          "output_type": "stream",
          "name": "stdout",
          "text": [
            "Введите текст: раз два три четыре\n",
            "Введите символ: а\n",
            "раз два три четыре\n",
            "2\n"
          ]
        }
      ]
    },
    {
      "cell_type": "markdown",
      "source": [
        "Повторять программу до тех пор, пока пользователь не введет слово \"stop\"\n",
        "вывести на экран условие меню\n",
        "\n",
        "a) расcчет суммы двух вводимых чисел\n",
        "\n",
        "b) расcчет деления двуч чисел (проверять условия на 0)\n",
        "\n",
        "c) поиск количества символов в строке\n",
        "\n",
        "\"stop\" - завершения программы\n"
      ],
      "metadata": {
        "id": "Pk02sU0udCzG"
      }
    },
    {
      "cell_type": "code",
      "source": [
        "mas = \"1)Рассчет суммы двух вводимых числе\\n2)Рассчет деления двух чисел\\n3)Поиск количества символов в строке\\nДля выхода введите \\\"stop\\\"\"\n",
        "\n",
        "while True:\n",
        "  print (mas)\n",
        "  var = input()\n",
        "  if var == \"stop\":\n",
        "    break\n",
        "  elif var == \"1\":\n",
        "    var1=int(input(\"Введите 1 число:\" ))\n",
        "    var2=int(input(\"Введите 2 число: \"))\n",
        "    print(\"Результат:\",var1+var2)\n",
        "  elif var == \"2\":\n",
        "    var1=int(input(\"Введите 1 число:\" ))\n",
        "    var2=int(input(\"Введите 2 число: \"))\n",
        "    if var2==0:\n",
        "      print(\"деление на 0\")\n",
        "    else:\n",
        "      print(\"Результат:\",var1/var2)\n",
        "  elif var == \"3\":\n",
        "    string = input(\"Введите текст: \")\n",
        "    sym_f = input(\"Введите символ:\")\n",
        "    print(string)\n",
        "    count = 0\n",
        "    for i in string:\n",
        "      if i == sym_f:\n",
        "        count+=1\n",
        "    print(\"Символов:\",count)"
      ],
      "metadata": {
        "colab": {
          "base_uri": "https://localhost:8080/"
        },
        "id": "5AWFMnqEim2z",
        "outputId": "b321db9f-5aca-4879-b6a6-1ad621962c47"
      },
      "execution_count": null,
      "outputs": [
        {
          "name": "stdout",
          "output_type": "stream",
          "text": [
            "1)Рассчет суммы двух вводимых числе\n",
            "2)Рассчет деления двух чисел\n",
            "3)Поиск количества символов в строке\n",
            "Для выхода введите \"stop\"\n",
            "fd\n",
            "1)Рассчет суммы двух вводимых числе\n",
            "2)Рассчет деления двух чисел\n",
            "3)Поиск количества символов в строке\n",
            "Для выхода введите \"stop\"\n",
            "1\n",
            "Введите 1 число:5\n",
            "Введите 2 число: 3\n",
            "Результат: 8\n",
            "1)Рассчет суммы двух вводимых числе\n",
            "2)Рассчет деления двух чисел\n",
            "3)Поиск количества символов в строке\n",
            "Для выхода введите \"stop\"\n",
            "2\n",
            "Введите 1 число:3\n",
            "Введите 2 число: 0\n",
            "деление на 0\n",
            "1)Рассчет суммы двух вводимых числе\n",
            "2)Рассчет деления двух чисел\n",
            "3)Поиск количества символов в строке\n",
            "Для выхода введите \"stop\"\n",
            "3\n",
            "Введите текст: Привет, как дела?\n",
            "Введите символ:е\n",
            "Привет, как дела?\n",
            "Символов: 2\n",
            "1)Рассчет суммы двух вводимых числе\n",
            "2)Рассчет деления двух чисел\n",
            "3)Поиск количества символов в строке\n",
            "Для выхода введите \"stop\"\n",
            "stop\n"
          ]
        }
      ]
    }
  ]
}