{
  "nbformat": 4,
  "nbformat_minor": 0,
  "metadata": {
    "colab": {
      "provenance": [],
      "include_colab_link": true
    },
    "kernelspec": {
      "name": "python3",
      "display_name": "Python 3"
    },
    "language_info": {
      "name": "python"
    }
  },
  "cells": [
    {
      "cell_type": "markdown",
      "metadata": {
        "id": "view-in-github",
        "colab_type": "text"
      },
      "source": [
        "<a href=\"https://colab.research.google.com/github/Rinarinna/761/blob/main/Untitled0.ipynb\" target=\"_parent\"><img src=\"https://colab.research.google.com/assets/colab-badge.svg\" alt=\"Open In Colab\"/></a>"
      ]
    },
    {
      "cell_type": "code",
      "execution_count": null,
      "metadata": {
        "id": "3P5rjw5FPUuE"
      },
      "outputs": [],
      "source": [
        "a=int(input())\n",
        "b=int(input())\n",
        "if b==0:\n",
        "  print(a+b,a-b,a*b,a**b)\n",
        "else:\n",
        "  print(a+b,a-b,a*b,a/b,a**b)"
      ]
    },
    {
      "cell_type": "code",
      "source": [
        "N=int(input())\n",
        "for i in range(N+1):\n",
        "  print(i)"
      ],
      "metadata": {
        "id": "4CZ4v9CoQdfE"
      },
      "execution_count": null,
      "outputs": []
    },
    {
      "cell_type": "code",
      "source": [
        "N=int(input())\n",
        "for i in range(N+1):\n",
        "  if i%2!=0:\n",
        "    print(i)"
      ],
      "metadata": {
        "id": "4Vpm90ReT7pN"
      },
      "execution_count": null,
      "outputs": []
    },
    {
      "cell_type": "code",
      "source": [
        "N=input(\"ввести текст\")\n",
        "for i in N:\n",
        "  print(i,end=\"\")"
      ],
      "metadata": {
        "id": "FUPf2PEOYNCg"
      },
      "execution_count": null,
      "outputs": []
    },
    {
      "cell_type": "code",
      "source": [
        "a=input(\"input text-\")\n",
        "b=input(\"input symbol-\")\n",
        "j = 0\n",
        "for i in a:\n",
        "  if b==i:\n",
        "    j +=1\n",
        "print(j)"
      ],
      "metadata": {
        "id": "CwKe30XrZiIW"
      },
      "execution_count": null,
      "outputs": []
    },
    {
      "cell_type": "code",
      "source": [
        "while True:\n",
        "  a=input()\n",
        "  if a==\"stop\":\n",
        "    break\n",
        "  else:\n",
        "    b=int(input())\n",
        "    c=int(input())\n",
        "    print(\"sum=\",int(b)+int(c))\n",
        "    if c!=0:\n",
        "      print(\"der=\",int(b)/int(c))\n",
        "    else:\n",
        "      print(\"error\")"
      ],
      "metadata": {
        "id": "J1AGEaaHdWQv"
      },
      "execution_count": null,
      "outputs": []
    },
    {
      "cell_type": "code",
      "source": [
        "while True:\n",
        "  c=input()\n",
        "  if c==\"stop\":\n",
        "    break\n",
        "  else:\n",
        "    a=input(\"input text-\")\n",
        "    b=input(\"input symbol-\")\n",
        "    j = 0\n",
        "    for i in a:\n",
        "      if b==i:\n",
        "        j +=1\n",
        "    print(j)"
      ],
      "metadata": {
        "id": "SOOl_IHLklEm"
      },
      "execution_count": null,
      "outputs": []
    }
  ]
}